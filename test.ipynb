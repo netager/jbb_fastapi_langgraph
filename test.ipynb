{
 "cells": [
  {
   "cell_type": "code",
   "execution_count": 60,
   "metadata": {},
   "outputs": [],
   "source": [
    "from typing import List, Annotated\n",
    "\n",
    "class BB():\n",
    "    def __init__(self):\n",
    "        self.path = \"/User/netager\"\n",
    "        self.a = 3\n",
    "        self.b = 4\n",
    "        self.c = 5\n",
    "        self.d = 6\n",
    "        self.e = 7\n",
    "        self.f = 8\n",
    "\n",
    "    def add_b_1(self):\n",
    "        return self.a + self.b\n",
    "\n",
    "    def add_b_2(self):\n",
    "        return self.c + self.d\n",
    "\n",
    "    def add_b_3(self, input_c, input_d):\n",
    "        return input_c + input_d\n",
    "\n",
    "class AA(BB):\n",
    "    def __init__(self, source_uri: Annotated[str, \"Source URI\"]):\n",
    "        self.source_uri = source_uri\n",
    "        self.a = 1\n",
    "        self.b = 2\n",
    "        self.c = 3\n",
    "        self.d = 4\n",
    "\n",
    "        self.result = 0\n",
    "\n",
    "    def add_a_1(self, num):\n",
    "        self.result += num\n",
    "        return self.result\n",
    "\n",
    "    def add_a_2(self):\n",
    "        return self.a + self.b\n",
    "    \n",
    "    def add_a_3(self, input_a, input_b):\n",
    "        call_b_result = self.add_b_3()\n",
    "        return input_a + input_b, call_b_result\n",
    "        \n",
    "    \n",
    "aa = AA(\"abc\")"
   ]
  },
  {
   "cell_type": "code",
   "execution_count": 61,
   "metadata": {},
   "outputs": [
    {
     "name": "stdout",
     "output_type": "stream",
     "text": [
      "add_a_1: 2\n",
      "add_a_2: 3\n",
      "add_b_1: 3\n"
     ]
    },
    {
     "ename": "TypeError",
     "evalue": "BB.add_b_3() missing 2 required positional arguments: 'input_c' and 'input_d'",
     "output_type": "error",
     "traceback": [
      "\u001b[31m---------------------------------------------------------------------------\u001b[39m",
      "\u001b[31mTypeError\u001b[39m                                 Traceback (most recent call last)",
      "\u001b[36mCell\u001b[39m\u001b[36m \u001b[39m\u001b[32mIn[61]\u001b[39m\u001b[32m, line 5\u001b[39m\n\u001b[32m      3\u001b[39m \u001b[38;5;28mprint\u001b[39m(\u001b[33mf\u001b[39m\u001b[33m\"\u001b[39m\u001b[33madd_b_1: \u001b[39m\u001b[38;5;132;01m{\u001b[39;00maa.add_b_1()\u001b[38;5;132;01m}\u001b[39;00m\u001b[33m\"\u001b[39m)\n\u001b[32m      4\u001b[39m \u001b[38;5;66;03m# print(f\"add_b_2: {aa.add_b_2()}\")\u001b[39;00m\n\u001b[32m----> \u001b[39m\u001b[32m5\u001b[39m \u001b[38;5;28mprint\u001b[39m(\u001b[33mf\u001b[39m\u001b[33m\"\u001b[39m\u001b[33madd_a_3: \u001b[39m\u001b[38;5;132;01m{\u001b[39;00m\u001b[43maa\u001b[49m\u001b[43m.\u001b[49m\u001b[43madd_a_3\u001b[49m\u001b[43m(\u001b[49m\u001b[32;43m2\u001b[39;49m\u001b[43m,\u001b[49m\u001b[38;5;250;43m \u001b[39;49m\u001b[32;43m2\u001b[39;49m\u001b[43m)\u001b[49m\u001b[38;5;132;01m}\u001b[39;00m\u001b[33m\"\u001b[39m)\n",
      "\u001b[36mCell\u001b[39m\u001b[36m \u001b[39m\u001b[32mIn[60]\u001b[39m\u001b[32m, line 39\u001b[39m, in \u001b[36mAA.add_a_3\u001b[39m\u001b[34m(self, input_a, input_b)\u001b[39m\n\u001b[32m     38\u001b[39m \u001b[38;5;28;01mdef\u001b[39;00m\u001b[38;5;250m \u001b[39m\u001b[34madd_a_3\u001b[39m(\u001b[38;5;28mself\u001b[39m, input_a, input_b):\n\u001b[32m---> \u001b[39m\u001b[32m39\u001b[39m     call_b_result = \u001b[38;5;28;43mself\u001b[39;49m\u001b[43m.\u001b[49m\u001b[43madd_b_3\u001b[49m\u001b[43m(\u001b[49m\u001b[43m)\u001b[49m\n\u001b[32m     40\u001b[39m     \u001b[38;5;28;01mreturn\u001b[39;00m input_a + input_b, call_b_result\n",
      "\u001b[31mTypeError\u001b[39m: BB.add_b_3() missing 2 required positional arguments: 'input_c' and 'input_d'"
     ]
    }
   ],
   "source": [
    "print(f\"add_a_1: {aa.add_a_1(2)}\")\n",
    "print(f\"add_a_2: {aa.add_a_2()}\")\n",
    "print(f\"add_b_1: {aa.add_b_1()}\")\n",
    "# print(f\"add_b_2: {aa.add_b_2()}\")\n",
    "print(f\"add_a_3: {aa.add_a_3(2, 2)}\")\n",
    "\n"
   ]
  },
  {
   "cell_type": "code",
   "execution_count": null,
   "metadata": {},
   "outputs": [],
   "source": [
    "# calculator3.py\n",
    "class Calculator:\n",
    "    def __init__(self):\n",
    "        self.result = 0\n",
    "\n",
    "    def add(self, num):\n",
    "        self.result += num\n",
    "        return self.result\n",
    "\n",
    "cal1 = Calculator()\n",
    "cal2 = Calculator()\n",
    "\n",
    "print(cal1.add(3))\n",
    "print(cal1.add(4))\n",
    "print(cal2.add(3))\n",
    "print(cal2.add(7))"
   ]
  },
  {
   "cell_type": "code",
   "execution_count": 88,
   "metadata": {},
   "outputs": [],
   "source": [
    "class Cal:\n",
    "    def __init__(self):\n",
    "        self.result = 0\n",
    "\n",
    "    def add(self, num):\n",
    "        self.result += num\n",
    "        return self.result    \n",
    "\n",
    "    def sub(self, num):\n",
    "        self.result -= num\n",
    "        return self.result        "
   ]
  },
  {
   "cell_type": "code",
   "execution_count": 89,
   "metadata": {},
   "outputs": [],
   "source": [
    "cal1 = Cal()\n",
    "cal2 = Cal()"
   ]
  },
  {
   "cell_type": "code",
   "execution_count": 128,
   "metadata": {},
   "outputs": [
    {
     "name": "stdout",
     "output_type": "stream",
     "text": [
      "1\n",
      "40\n",
      "0\n",
      "39\n"
     ]
    }
   ],
   "source": [
    "print(cal1.add(1))\n",
    "print(cal2.add(2))\n",
    "print(cal1.sub(1))\n",
    "print(cal2.sub(1))\n",
    "\n"
   ]
  },
  {
   "cell_type": "code",
   "execution_count": 68,
   "metadata": {},
   "outputs": [
    {
     "ename": "NameError",
     "evalue": "name 'cal2' is not defined",
     "output_type": "error",
     "traceback": [
      "\u001b[31m---------------------------------------------------------------------------\u001b[39m",
      "\u001b[31mNameError\u001b[39m                                 Traceback (most recent call last)",
      "\u001b[36mCell\u001b[39m\u001b[36m \u001b[39m\u001b[32mIn[68]\u001b[39m\u001b[32m, line 1\u001b[39m\n\u001b[32m----> \u001b[39m\u001b[32m1\u001b[39m \u001b[43mcal2\u001b[49m.add(\u001b[32m2\u001b[39m)\n",
      "\u001b[31mNameError\u001b[39m: name 'cal2' is not defined"
     ]
    }
   ],
   "source": [
    "cal2.add(2)"
   ]
  },
  {
   "cell_type": "code",
   "execution_count": 142,
   "metadata": {},
   "outputs": [],
   "source": [
    "class FourCal:\n",
    "    def __init__(self):\n",
    "        self.first = 0\n",
    "        self.secode = 0\n",
    "\n",
    "    def setdata(self, input_a, input_b):\n",
    "        self.first = input_a\n",
    "        self.second = input_b\n",
    "\n",
    "    def add(self):\n",
    "        return self.first + self.second\n",
    "\n",
    "    def sub(self):\n",
    "        return self.first - self.second\n",
    "\n",
    "    def mul(self):\n",
    "        return self.first * self.second\n",
    "\n",
    "    def div(self):\n",
    "        return self.first / self.second    \n",
    "            "
   ]
  },
  {
   "cell_type": "code",
   "execution_count": 144,
   "metadata": {},
   "outputs": [],
   "source": [
    "cal = FourCal()"
   ]
  },
  {
   "cell_type": "code",
   "execution_count": 145,
   "metadata": {},
   "outputs": [],
   "source": [
    "cal.setdata(4, 2)"
   ]
  },
  {
   "cell_type": "code",
   "execution_count": 146,
   "metadata": {},
   "outputs": [
    {
     "name": "stdout",
     "output_type": "stream",
     "text": [
      "6\n",
      "2\n",
      "8\n",
      "2.0\n"
     ]
    }
   ],
   "source": [
    "print(cal.add())\n",
    "print(cal.sub())\n",
    "print(cal.mul())\n",
    "print(cal.div())\n"
   ]
  },
  {
   "cell_type": "code",
   "execution_count": 152,
   "metadata": {},
   "outputs": [
    {
     "data": {
      "text/plain": [
       "True"
      ]
     },
     "execution_count": 152,
     "metadata": {},
     "output_type": "execute_result"
    }
   ],
   "source": [
    "isinstance(cal, FourCal)"
   ]
  },
  {
   "cell_type": "code",
   "execution_count": 160,
   "metadata": {},
   "outputs": [],
   "source": [
    "class FourCal1:\n",
    "    def __init__(self, first, second):\n",
    "        self.first = first\n",
    "        self.second = second\n",
    "\n",
    "    def setdata(self, input_a, input_b):\n",
    "        self.first = input_a\n",
    "        self.second = input_b\n"
   ]
  },
  {
   "cell_type": "code",
   "execution_count": 161,
   "metadata": {},
   "outputs": [],
   "source": [
    "cal1 = FourCal1(1,2)"
   ]
  },
  {
   "cell_type": "code",
   "execution_count": 162,
   "metadata": {},
   "outputs": [
    {
     "data": {
      "text/plain": [
       "(1, 2)"
      ]
     },
     "execution_count": 162,
     "metadata": {},
     "output_type": "execute_result"
    }
   ],
   "source": [
    "cal1.first, cal1.second"
   ]
  },
  {
   "cell_type": "code",
   "execution_count": 163,
   "metadata": {},
   "outputs": [],
   "source": [
    "cal1.setdata(4,5)"
   ]
  },
  {
   "cell_type": "code",
   "execution_count": 164,
   "metadata": {},
   "outputs": [
    {
     "data": {
      "text/plain": [
       "(4, 5)"
      ]
     },
     "execution_count": 164,
     "metadata": {},
     "output_type": "execute_result"
    }
   ],
   "source": [
    "cal1.first, cal1.second"
   ]
  },
  {
   "cell_type": "code",
   "execution_count": 10,
   "metadata": {},
   "outputs": [],
   "source": [
    "class FourCal:\n",
    "    def __init__(self, first, second):\n",
    "        self.first1 = first\n",
    "        self.second1 = second\n",
    "        self.path = \"/Users/netager1\"\n",
    "\n",
    "    def setdata(self, input_a, input_b):\n",
    "        self.first = input_a\n",
    "        self.second = input_b\n",
    "\n",
    "    def add(self):\n",
    "        return self.first + self.second\n",
    "\n",
    "    def sub(self):\n",
    "        return self.first - self.second\n",
    "\n",
    "    def mul(self):\n",
    "        return self.first * self.second\n",
    "\n",
    "    def div(self):\n",
    "        return self.first / self.second\n",
    "\n",
    "    def print_path(self):\n",
    "        print(f\"print_path: {self.path}\")    \n",
    "                "
   ]
  },
  {
   "cell_type": "code",
   "execution_count": 11,
   "metadata": {},
   "outputs": [],
   "source": [
    "class MoreFourCal(FourCal):\n",
    "    def __init__(self, input_1, input_2):\n",
    "        self.a = 0\n",
    "        self.b = 0\n",
    "        self.first = input_1\n",
    "        self.second = input_2\n",
    "        self.path = \"/Users/netager\"\n",
    "\n",
    "    def pow(self):\n",
    "        return self.first ** self.second\n",
    "    \n",
    "    def div(self):\n",
    "        if self.second == 0:\n",
    "            return 0\n",
    "        else:\n",
    "            return self.first / self.second"
   ]
  },
  {
   "cell_type": "code",
   "execution_count": 12,
   "metadata": {},
   "outputs": [
    {
     "name": "stdout",
     "output_type": "stream",
     "text": [
      "print_path: /Users/netager\n"
     ]
    }
   ],
   "source": [
    "mcal = MoreFourCal(4,4)\n",
    "mcal.add()\n",
    "mcal.print_path()"
   ]
  },
  {
   "cell_type": "code",
   "execution_count": 242,
   "metadata": {},
   "outputs": [
    {
     "data": {
      "text/plain": [
       "8"
      ]
     },
     "execution_count": 242,
     "metadata": {},
     "output_type": "execute_result"
    }
   ],
   "source": [
    "mcal.add()\n"
   ]
  },
  {
   "cell_type": "code",
   "execution_count": 248,
   "metadata": {},
   "outputs": [
    {
     "name": "stdout",
     "output_type": "stream",
     "text": [
      "print_path: /Users/netager\n"
     ]
    }
   ],
   "source": [
    "mcal = MoreFourCal(4,0)\n",
    "mcal.add()\n",
    "\n",
    "mcal.print_path()\n",
    "# mcal = MoreFourCal(4,4)"
   ]
  },
  {
   "cell_type": "code",
   "execution_count": 190,
   "metadata": {},
   "outputs": [],
   "source": [
    "mcal.setdata(2,2)"
   ]
  },
  {
   "cell_type": "code",
   "execution_count": 205,
   "metadata": {},
   "outputs": [
    {
     "ename": "AttributeError",
     "evalue": "'MoreFourCal' object has no attribute 'second'",
     "output_type": "error",
     "traceback": [
      "\u001b[31m---------------------------------------------------------------------------\u001b[39m",
      "\u001b[31mAttributeError\u001b[39m                            Traceback (most recent call last)",
      "\u001b[36mCell\u001b[39m\u001b[36m \u001b[39m\u001b[32mIn[205]\u001b[39m\u001b[32m, line 1\u001b[39m\n\u001b[32m----> \u001b[39m\u001b[32m1\u001b[39m mcal.first, \u001b[43mmcal\u001b[49m\u001b[43m.\u001b[49m\u001b[43msecond\u001b[49m\n",
      "\u001b[31mAttributeError\u001b[39m: 'MoreFourCal' object has no attribute 'second'"
     ]
    }
   ],
   "source": [
    "mcal.first, mcal.second"
   ]
  },
  {
   "cell_type": "code",
   "execution_count": 197,
   "metadata": {},
   "outputs": [
    {
     "ename": "AttributeError",
     "evalue": "'MoreFourCal' object has no attribute 'second'",
     "output_type": "error",
     "traceback": [
      "\u001b[31m---------------------------------------------------------------------------\u001b[39m",
      "\u001b[31mAttributeError\u001b[39m                            Traceback (most recent call last)",
      "\u001b[36mCell\u001b[39m\u001b[36m \u001b[39m\u001b[32mIn[197]\u001b[39m\u001b[32m, line 1\u001b[39m\n\u001b[32m----> \u001b[39m\u001b[32m1\u001b[39m \u001b[43mmcal\u001b[49m\u001b[43m.\u001b[49m\u001b[43madd\u001b[49m\u001b[43m(\u001b[49m\u001b[43m)\u001b[49m\n\u001b[32m      2\u001b[39m mcal.pow()\n\u001b[32m      3\u001b[39m mcal.print_path()\n",
      "\u001b[36mCell\u001b[39m\u001b[36m \u001b[39m\u001b[32mIn[194]\u001b[39m\u001b[32m, line 12\u001b[39m, in \u001b[36mFourCal.add\u001b[39m\u001b[34m(self)\u001b[39m\n\u001b[32m     11\u001b[39m \u001b[38;5;28;01mdef\u001b[39;00m\u001b[38;5;250m \u001b[39m\u001b[34madd\u001b[39m(\u001b[38;5;28mself\u001b[39m):\n\u001b[32m---> \u001b[39m\u001b[32m12\u001b[39m     \u001b[38;5;28;01mreturn\u001b[39;00m \u001b[38;5;28mself\u001b[39m.first + \u001b[38;5;28;43mself\u001b[39;49m\u001b[43m.\u001b[49m\u001b[43msecond\u001b[49m\n",
      "\u001b[31mAttributeError\u001b[39m: 'MoreFourCal' object has no attribute 'second'"
     ]
    }
   ],
   "source": [
    "mcal.add()\n",
    "mcal.pow()\n",
    "mcal.print_path()"
   ]
  },
  {
   "cell_type": "code",
   "execution_count": 266,
   "metadata": {},
   "outputs": [],
   "source": [
    "class Family:\n",
    "    lastname = \"김\"\n",
    "    \n",
    "    def __init__(self, name):\n",
    "        self.name = name\n",
    "\n",
    "    def set_name(self, name):\n",
    "        self.name = name    \n",
    "\n",
    "    def display_full_name(self):\n",
    "        return f'My name is  {self.lastname} {self.name}'    "
   ]
  },
  {
   "cell_type": "code",
   "execution_count": 268,
   "metadata": {},
   "outputs": [
    {
     "name": "stdout",
     "output_type": "stream",
     "text": [
      "My name is  박 현우\n",
      "My name is  박 현준\n",
      "My name is  이 현우\n",
      "My name is  이 현준\n",
      "My name is  류 현우\n",
      "My name is  이 현준\n"
     ]
    }
   ],
   "source": [
    "kim = Family('현우')\n",
    "kim1 = Family('현준')\n",
    "Family.lastname = \"박\"\n",
    "print(kim.display_full_name())\n",
    "print(kim1.display_full_name())\n",
    "Family.lastname = \"이\"\n",
    "print(kim.display_full_name())\n",
    "print(kim1.display_full_name())\n",
    "kim.lastname = \"류\"\n",
    "print(kim.display_full_name())\n",
    "print(kim1.display_full_name())"
   ]
  }
 ],
 "metadata": {
  "kernelspec": {
   "display_name": "langgraph",
   "language": "python",
   "name": "python3"
  },
  "language_info": {
   "codemirror_mode": {
    "name": "ipython",
    "version": 3
   },
   "file_extension": ".py",
   "mimetype": "text/x-python",
   "name": "python",
   "nbconvert_exporter": "python",
   "pygments_lexer": "ipython3",
   "version": "3.11.13"
  }
 },
 "nbformat": 4,
 "nbformat_minor": 2
}
