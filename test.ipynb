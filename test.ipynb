{
 "cells": [
  {
   "cell_type": "code",
   "execution_count": 2,
   "metadata": {},
   "outputs": [
    {
     "data": {
      "text/plain": [
       "'[Document('"
      ]
     },
     "execution_count": 2,
     "metadata": {},
     "output_type": "execute_result"
    }
   ],
   "source": [
    "aa = \"[Document(id='bc0afd11-c0c0-4021-b8c9-f477d296054d', metadata={'source': '../rag_data/jbb/규정/(F2006) 사내근로복지기금 사무지침 [개정(14) 2022. 3.29].pdf', 'page': 1, 'title': '(F2006) 사내근로복지기금 사무지침 [개정(14) 2022. 3.29]'}, page_content='사내근로복지기금사무지침 F2006 - 2 -5. (2013. 7. 1 삭제) 6. 체육문화활동비 가. 지원대상 : 전 각 호에 의한 지원대상외 직원. 다만, 전 각 호에 의한 지원금액이  50만원 미만인 경우에는 아래 ｢나｣호에서 정한 금액과의 차액을 지급한다 .\\n나. 지원범위 : 연간 50만원 범위 내에서 1회 신청으로 한다. 다만, 입행 후 10년이 경 과하고 복지지침에서 정한 장학금 항목을 한 번도 지급받지 않은 만45세 이상 미혼 직원, 자녀가 없는 만45세 이상 기혼직원에 대하여는 연 1백만원 범위 내에서 1회  신청으로 한다. (2020. 1. 1 개정) 다. 체육문화활동의 범위 : 각종 체육시설의 이용, 스포츠 ･레저장비 구입, 연극･영화･공 연관람 , 도서･문화상품권 구입, 본인 및 자녀학원비 등\\n\\n문서 : 전북은행 (F2006) 사내근로복지기금 사무지침 [개정(14) 2022. 3.29]'), Document(id='a0775b76-2fb5-41ec-9387-db99963f3610', metadata={'source': '../rag_data/jbb/규정/(F2006) 사내근로복지기금 사무지침 [개정(14) 2022. 3.29].pdf', 'title': '(F2006) 사내근로복지기금 사무지침 [개정(14) 2022. 3.29]', 'page': 1}, page_content='3. 체육문화활동비 : 비자매출표 또는 영수증 . 다만, 영수증에는 성명이 기재되어 있어야  한다.\\n② 인사지원부장은 장학금 지급신청서의 내용을 검토하여 적정여부를 확인한 후 이를 지급\\n\\n문서 : 전북은행 (F2006) 사내근로복지기금 사무지침 [개정(14) 2022. 3.29]'), Document(id='d7604ca6-35e2-4dc3-8a4b-3f60743faaa1', metadata={'source': '../rag_data/jbb/규정/(F1002) 복지규정[개정(2)2023.4.10].pdf', 'title': '(F1002) 복지규정[개정(2)2023.4.10]', 'page': 1}, page_content='제 12 조 (체육 및 문화) ① 직원의 체력 및 교양을 증진하기 위하여 관련시설을 설치 또는  임차하여 운용하고 필요한 행사를 실시할 수 있다.\\n② 직원의 체육 및 문화예술활동을 장려하기 위하여 은행장이 정하는 바에 따라 체육교양 부를 설치 운영할 수 있다.\\n③ 취미, 오락 등 직원의 개별적인 상호 친목활동의 경우를 제외한 공식적인 대내외 행사를  위하여 소요되는 제 경비는 은행에서 부담할 수 있다.\\n④ 직원의 체육 및 교양활동과 상호친목활동을 지원하기 위하여 필요한 경우에는 은행에서  제비용과 장소, 시설 및 차량 등의 편의를 제공할 수 있다.\\n부   칙 연혁 개정일자 시행일자 경과조치 및 적용특례 등 제정 2011. 1. 12011. 1. 1① (페지규정 ) 이 규정 시행과 동시에 종전의 복지규정은  폐지한다 .\\n② (경과조치 ) 이 규정 시행일 이전에 종전의 복지규정에\\n\\n문서 : 전북은행 (F1002) 복지규정[개정(2)2023.4.10]')]\"\n",
    "aa[:10]"
   ]
  },
  {
   "cell_type": "code",
   "execution_count": 60,
   "metadata": {},
   "outputs": [],
   "source": [
    "from typing import List, Annotated\n",
    "\n",
    "class BB():\n",
    "    def __init__(self):\n",
    "        self.path = \"/User/netager\"\n",
    "        self.a = 3\n",
    "        self.b = 4\n",
    "        self.c = 5\n",
    "        self.d = 6\n",
    "        self.e = 7\n",
    "        self.f = 8\n",
    "\n",
    "    def add_b_1(self):\n",
    "        return self.a + self.b\n",
    "\n",
    "    def add_b_2(self):\n",
    "        return self.c + self.d\n",
    "\n",
    "    def add_b_3(self, input_c, input_d):\n",
    "        return input_c + input_d\n",
    "\n",
    "class AA(BB):\n",
    "    def __init__(self, source_uri: Annotated[str, \"Source URI\"]):\n",
    "        self.source_uri = source_uri\n",
    "        self.a = 1\n",
    "        self.b = 2\n",
    "        self.c = 3\n",
    "        self.d = 4\n",
    "\n",
    "        self.result = 0\n",
    "\n",
    "    def add_a_1(self, num):\n",
    "        self.result += num\n",
    "        return self.result\n",
    "\n",
    "    def add_a_2(self):\n",
    "        return self.a + self.b\n",
    "    \n",
    "    def add_a_3(self, input_a, input_b):\n",
    "        call_b_result = self.add_b_3()\n",
    "        return input_a + input_b, call_b_result\n",
    "        \n",
    "    \n",
    "aa = AA(\"abc\")"
   ]
  },
  {
   "cell_type": "code",
   "execution_count": 61,
   "metadata": {},
   "outputs": [
    {
     "name": "stdout",
     "output_type": "stream",
     "text": [
      "add_a_1: 2\n",
      "add_a_2: 3\n",
      "add_b_1: 3\n"
     ]
    },
    {
     "ename": "TypeError",
     "evalue": "BB.add_b_3() missing 2 required positional arguments: 'input_c' and 'input_d'",
     "output_type": "error",
     "traceback": [
      "\u001b[31m---------------------------------------------------------------------------\u001b[39m",
      "\u001b[31mTypeError\u001b[39m                                 Traceback (most recent call last)",
      "\u001b[36mCell\u001b[39m\u001b[36m \u001b[39m\u001b[32mIn[61]\u001b[39m\u001b[32m, line 5\u001b[39m\n\u001b[32m      3\u001b[39m \u001b[38;5;28mprint\u001b[39m(\u001b[33mf\u001b[39m\u001b[33m\"\u001b[39m\u001b[33madd_b_1: \u001b[39m\u001b[38;5;132;01m{\u001b[39;00maa.add_b_1()\u001b[38;5;132;01m}\u001b[39;00m\u001b[33m\"\u001b[39m)\n\u001b[32m      4\u001b[39m \u001b[38;5;66;03m# print(f\"add_b_2: {aa.add_b_2()}\")\u001b[39;00m\n\u001b[32m----> \u001b[39m\u001b[32m5\u001b[39m \u001b[38;5;28mprint\u001b[39m(\u001b[33mf\u001b[39m\u001b[33m\"\u001b[39m\u001b[33madd_a_3: \u001b[39m\u001b[38;5;132;01m{\u001b[39;00m\u001b[43maa\u001b[49m\u001b[43m.\u001b[49m\u001b[43madd_a_3\u001b[49m\u001b[43m(\u001b[49m\u001b[32;43m2\u001b[39;49m\u001b[43m,\u001b[49m\u001b[38;5;250;43m \u001b[39;49m\u001b[32;43m2\u001b[39;49m\u001b[43m)\u001b[49m\u001b[38;5;132;01m}\u001b[39;00m\u001b[33m\"\u001b[39m)\n",
      "\u001b[36mCell\u001b[39m\u001b[36m \u001b[39m\u001b[32mIn[60]\u001b[39m\u001b[32m, line 39\u001b[39m, in \u001b[36mAA.add_a_3\u001b[39m\u001b[34m(self, input_a, input_b)\u001b[39m\n\u001b[32m     38\u001b[39m \u001b[38;5;28;01mdef\u001b[39;00m\u001b[38;5;250m \u001b[39m\u001b[34madd_a_3\u001b[39m(\u001b[38;5;28mself\u001b[39m, input_a, input_b):\n\u001b[32m---> \u001b[39m\u001b[32m39\u001b[39m     call_b_result = \u001b[38;5;28;43mself\u001b[39;49m\u001b[43m.\u001b[49m\u001b[43madd_b_3\u001b[49m\u001b[43m(\u001b[49m\u001b[43m)\u001b[49m\n\u001b[32m     40\u001b[39m     \u001b[38;5;28;01mreturn\u001b[39;00m input_a + input_b, call_b_result\n",
      "\u001b[31mTypeError\u001b[39m: BB.add_b_3() missing 2 required positional arguments: 'input_c' and 'input_d'"
     ]
    }
   ],
   "source": [
    "print(f\"add_a_1: {aa.add_a_1(2)}\")\n",
    "print(f\"add_a_2: {aa.add_a_2()}\")\n",
    "print(f\"add_b_1: {aa.add_b_1()}\")\n",
    "# print(f\"add_b_2: {aa.add_b_2()}\")\n",
    "print(f\"add_a_3: {aa.add_a_3(2, 2)}\")\n",
    "\n"
   ]
  },
  {
   "cell_type": "code",
   "execution_count": null,
   "metadata": {},
   "outputs": [],
   "source": [
    "# calculator3.py\n",
    "class Calculator:\n",
    "    def __init__(self):\n",
    "        self.result = 0\n",
    "\n",
    "    def add(self, num):\n",
    "        self.result += num\n",
    "        return self.result\n",
    "\n",
    "cal1 = Calculator()\n",
    "cal2 = Calculator()\n",
    "\n",
    "print(cal1.add(3))\n",
    "print(cal1.add(4))\n",
    "print(cal2.add(3))\n",
    "print(cal2.add(7))"
   ]
  },
  {
   "cell_type": "code",
   "execution_count": 88,
   "metadata": {},
   "outputs": [],
   "source": [
    "class Cal:\n",
    "    def __init__(self):\n",
    "        self.result = 0\n",
    "\n",
    "    def add(self, num):\n",
    "        self.result += num\n",
    "        return self.result    \n",
    "\n",
    "    def sub(self, num):\n",
    "        self.result -= num\n",
    "        return self.result        "
   ]
  },
  {
   "cell_type": "code",
   "execution_count": 89,
   "metadata": {},
   "outputs": [],
   "source": [
    "cal1 = Cal()\n",
    "cal2 = Cal()"
   ]
  },
  {
   "cell_type": "code",
   "execution_count": 128,
   "metadata": {},
   "outputs": [
    {
     "name": "stdout",
     "output_type": "stream",
     "text": [
      "1\n",
      "40\n",
      "0\n",
      "39\n"
     ]
    }
   ],
   "source": [
    "print(cal1.add(1))\n",
    "print(cal2.add(2))\n",
    "print(cal1.sub(1))\n",
    "print(cal2.sub(1))\n",
    "\n"
   ]
  },
  {
   "cell_type": "code",
   "execution_count": 68,
   "metadata": {},
   "outputs": [
    {
     "ename": "NameError",
     "evalue": "name 'cal2' is not defined",
     "output_type": "error",
     "traceback": [
      "\u001b[31m---------------------------------------------------------------------------\u001b[39m",
      "\u001b[31mNameError\u001b[39m                                 Traceback (most recent call last)",
      "\u001b[36mCell\u001b[39m\u001b[36m \u001b[39m\u001b[32mIn[68]\u001b[39m\u001b[32m, line 1\u001b[39m\n\u001b[32m----> \u001b[39m\u001b[32m1\u001b[39m \u001b[43mcal2\u001b[49m.add(\u001b[32m2\u001b[39m)\n",
      "\u001b[31mNameError\u001b[39m: name 'cal2' is not defined"
     ]
    }
   ],
   "source": [
    "cal2.add(2)"
   ]
  },
  {
   "cell_type": "code",
   "execution_count": 142,
   "metadata": {},
   "outputs": [],
   "source": [
    "class FourCal:\n",
    "    def __init__(self):\n",
    "        self.first = 0\n",
    "        self.secode = 0\n",
    "\n",
    "    def setdata(self, input_a, input_b):\n",
    "        self.first = input_a\n",
    "        self.second = input_b\n",
    "\n",
    "    def add(self):\n",
    "        return self.first + self.second\n",
    "\n",
    "    def sub(self):\n",
    "        return self.first - self.second\n",
    "\n",
    "    def mul(self):\n",
    "        return self.first * self.second\n",
    "\n",
    "    def div(self):\n",
    "        return self.first / self.second    \n",
    "            "
   ]
  },
  {
   "cell_type": "code",
   "execution_count": 144,
   "metadata": {},
   "outputs": [],
   "source": [
    "cal = FourCal()"
   ]
  },
  {
   "cell_type": "code",
   "execution_count": 145,
   "metadata": {},
   "outputs": [],
   "source": [
    "cal.setdata(4, 2)"
   ]
  },
  {
   "cell_type": "code",
   "execution_count": 146,
   "metadata": {},
   "outputs": [
    {
     "name": "stdout",
     "output_type": "stream",
     "text": [
      "6\n",
      "2\n",
      "8\n",
      "2.0\n"
     ]
    }
   ],
   "source": [
    "print(cal.add())\n",
    "print(cal.sub())\n",
    "print(cal.mul())\n",
    "print(cal.div())\n"
   ]
  },
  {
   "cell_type": "code",
   "execution_count": 152,
   "metadata": {},
   "outputs": [
    {
     "data": {
      "text/plain": [
       "True"
      ]
     },
     "execution_count": 152,
     "metadata": {},
     "output_type": "execute_result"
    }
   ],
   "source": [
    "isinstance(cal, FourCal)"
   ]
  },
  {
   "cell_type": "code",
   "execution_count": 160,
   "metadata": {},
   "outputs": [],
   "source": [
    "class FourCal1:\n",
    "    def __init__(self, first, second):\n",
    "        self.first = first\n",
    "        self.second = second\n",
    "\n",
    "    def setdata(self, input_a, input_b):\n",
    "        self.first = input_a\n",
    "        self.second = input_b\n"
   ]
  },
  {
   "cell_type": "code",
   "execution_count": 161,
   "metadata": {},
   "outputs": [],
   "source": [
    "cal1 = FourCal1(1,2)"
   ]
  },
  {
   "cell_type": "code",
   "execution_count": 162,
   "metadata": {},
   "outputs": [
    {
     "data": {
      "text/plain": [
       "(1, 2)"
      ]
     },
     "execution_count": 162,
     "metadata": {},
     "output_type": "execute_result"
    }
   ],
   "source": [
    "cal1.first, cal1.second"
   ]
  },
  {
   "cell_type": "code",
   "execution_count": 163,
   "metadata": {},
   "outputs": [],
   "source": [
    "cal1.setdata(4,5)"
   ]
  },
  {
   "cell_type": "code",
   "execution_count": 164,
   "metadata": {},
   "outputs": [
    {
     "data": {
      "text/plain": [
       "(4, 5)"
      ]
     },
     "execution_count": 164,
     "metadata": {},
     "output_type": "execute_result"
    }
   ],
   "source": [
    "cal1.first, cal1.second"
   ]
  },
  {
   "cell_type": "code",
   "execution_count": 10,
   "metadata": {},
   "outputs": [],
   "source": [
    "class FourCal:\n",
    "    def __init__(self, first, second):\n",
    "        self.first1 = first\n",
    "        self.second1 = second\n",
    "        self.path = \"/Users/netager1\"\n",
    "\n",
    "    def setdata(self, input_a, input_b):\n",
    "        self.first = input_a\n",
    "        self.second = input_b\n",
    "\n",
    "    def add(self):\n",
    "        return self.first + self.second\n",
    "\n",
    "    def sub(self):\n",
    "        return self.first - self.second\n",
    "\n",
    "    def mul(self):\n",
    "        return self.first * self.second\n",
    "\n",
    "    def div(self):\n",
    "        return self.first / self.second\n",
    "\n",
    "    def print_path(self):\n",
    "        print(f\"print_path: {self.path}\")    \n",
    "                "
   ]
  },
  {
   "cell_type": "code",
   "execution_count": 11,
   "metadata": {},
   "outputs": [],
   "source": [
    "class MoreFourCal(FourCal):\n",
    "    def __init__(self, input_1, input_2):\n",
    "        self.a = 0\n",
    "        self.b = 0\n",
    "        self.first = input_1\n",
    "        self.second = input_2\n",
    "        self.path = \"/Users/netager\"\n",
    "\n",
    "    def pow(self):\n",
    "        return self.first ** self.second\n",
    "    \n",
    "    def div(self):\n",
    "        if self.second == 0:\n",
    "            return 0\n",
    "        else:\n",
    "            return self.first / self.second"
   ]
  },
  {
   "cell_type": "code",
   "execution_count": 12,
   "metadata": {},
   "outputs": [
    {
     "name": "stdout",
     "output_type": "stream",
     "text": [
      "print_path: /Users/netager\n"
     ]
    }
   ],
   "source": [
    "mcal = MoreFourCal(4,4)\n",
    "mcal.add()\n",
    "mcal.print_path()"
   ]
  },
  {
   "cell_type": "code",
   "execution_count": 242,
   "metadata": {},
   "outputs": [
    {
     "data": {
      "text/plain": [
       "8"
      ]
     },
     "execution_count": 242,
     "metadata": {},
     "output_type": "execute_result"
    }
   ],
   "source": [
    "mcal.add()\n"
   ]
  },
  {
   "cell_type": "code",
   "execution_count": 248,
   "metadata": {},
   "outputs": [
    {
     "name": "stdout",
     "output_type": "stream",
     "text": [
      "print_path: /Users/netager\n"
     ]
    }
   ],
   "source": [
    "mcal = MoreFourCal(4,0)\n",
    "mcal.add()\n",
    "\n",
    "mcal.print_path()\n",
    "# mcal = MoreFourCal(4,4)"
   ]
  },
  {
   "cell_type": "code",
   "execution_count": 190,
   "metadata": {},
   "outputs": [],
   "source": [
    "mcal.setdata(2,2)"
   ]
  },
  {
   "cell_type": "code",
   "execution_count": 205,
   "metadata": {},
   "outputs": [
    {
     "ename": "AttributeError",
     "evalue": "'MoreFourCal' object has no attribute 'second'",
     "output_type": "error",
     "traceback": [
      "\u001b[31m---------------------------------------------------------------------------\u001b[39m",
      "\u001b[31mAttributeError\u001b[39m                            Traceback (most recent call last)",
      "\u001b[36mCell\u001b[39m\u001b[36m \u001b[39m\u001b[32mIn[205]\u001b[39m\u001b[32m, line 1\u001b[39m\n\u001b[32m----> \u001b[39m\u001b[32m1\u001b[39m mcal.first, \u001b[43mmcal\u001b[49m\u001b[43m.\u001b[49m\u001b[43msecond\u001b[49m\n",
      "\u001b[31mAttributeError\u001b[39m: 'MoreFourCal' object has no attribute 'second'"
     ]
    }
   ],
   "source": [
    "mcal.first, mcal.second"
   ]
  },
  {
   "cell_type": "code",
   "execution_count": 197,
   "metadata": {},
   "outputs": [
    {
     "ename": "AttributeError",
     "evalue": "'MoreFourCal' object has no attribute 'second'",
     "output_type": "error",
     "traceback": [
      "\u001b[31m---------------------------------------------------------------------------\u001b[39m",
      "\u001b[31mAttributeError\u001b[39m                            Traceback (most recent call last)",
      "\u001b[36mCell\u001b[39m\u001b[36m \u001b[39m\u001b[32mIn[197]\u001b[39m\u001b[32m, line 1\u001b[39m\n\u001b[32m----> \u001b[39m\u001b[32m1\u001b[39m \u001b[43mmcal\u001b[49m\u001b[43m.\u001b[49m\u001b[43madd\u001b[49m\u001b[43m(\u001b[49m\u001b[43m)\u001b[49m\n\u001b[32m      2\u001b[39m mcal.pow()\n\u001b[32m      3\u001b[39m mcal.print_path()\n",
      "\u001b[36mCell\u001b[39m\u001b[36m \u001b[39m\u001b[32mIn[194]\u001b[39m\u001b[32m, line 12\u001b[39m, in \u001b[36mFourCal.add\u001b[39m\u001b[34m(self)\u001b[39m\n\u001b[32m     11\u001b[39m \u001b[38;5;28;01mdef\u001b[39;00m\u001b[38;5;250m \u001b[39m\u001b[34madd\u001b[39m(\u001b[38;5;28mself\u001b[39m):\n\u001b[32m---> \u001b[39m\u001b[32m12\u001b[39m     \u001b[38;5;28;01mreturn\u001b[39;00m \u001b[38;5;28mself\u001b[39m.first + \u001b[38;5;28;43mself\u001b[39;49m\u001b[43m.\u001b[49m\u001b[43msecond\u001b[49m\n",
      "\u001b[31mAttributeError\u001b[39m: 'MoreFourCal' object has no attribute 'second'"
     ]
    }
   ],
   "source": [
    "mcal.add()\n",
    "mcal.pow()\n",
    "mcal.print_path()"
   ]
  },
  {
   "cell_type": "code",
   "execution_count": 266,
   "metadata": {},
   "outputs": [],
   "source": [
    "class Family:\n",
    "    lastname = \"김\"\n",
    "    \n",
    "    def __init__(self, name):\n",
    "        self.name = name\n",
    "\n",
    "    def set_name(self, name):\n",
    "        self.name = name    \n",
    "\n",
    "    def display_full_name(self):\n",
    "        return f'My name is  {self.lastname} {self.name}'    "
   ]
  },
  {
   "cell_type": "code",
   "execution_count": 268,
   "metadata": {},
   "outputs": [
    {
     "name": "stdout",
     "output_type": "stream",
     "text": [
      "My name is  박 현우\n",
      "My name is  박 현준\n",
      "My name is  이 현우\n",
      "My name is  이 현준\n",
      "My name is  류 현우\n",
      "My name is  이 현준\n"
     ]
    }
   ],
   "source": [
    "kim = Family('현우')\n",
    "kim1 = Family('현준')\n",
    "Family.lastname = \"박\"\n",
    "print(kim.display_full_name())\n",
    "print(kim1.display_full_name())\n",
    "Family.lastname = \"이\"\n",
    "print(kim.display_full_name())\n",
    "print(kim1.display_full_name())\n",
    "kim.lastname = \"류\"\n",
    "print(kim.display_full_name())\n",
    "print(kim1.display_full_name())"
   ]
  }
 ],
 "metadata": {
  "kernelspec": {
   "display_name": "teddy",
   "language": "python",
   "name": "python3"
  },
  "language_info": {
   "codemirror_mode": {
    "name": "ipython",
    "version": 3
   },
   "file_extension": ".py",
   "mimetype": "text/x-python",
   "name": "python",
   "nbconvert_exporter": "python",
   "pygments_lexer": "ipython3",
   "version": "3.11.11"
  }
 },
 "nbformat": 4,
 "nbformat_minor": 2
}
