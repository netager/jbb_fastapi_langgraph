{
 "cells": [
  {
   "cell_type": "code",
   "execution_count": 1,
   "metadata": {},
   "outputs": [],
   "source": [
    "import os\n",
    "import json\n",
    "from typing import List, Annotated, AsyncGenerator\n",
    "from typing_extensions import TypedDict\n",
    "\n",
    "from langgraph.graph import StateGraph, START, END\n",
    "from langgraph.graph.message import add_messages\n",
    "from langchain_openai import ChatOpenAI\n",
    "from langchain_ollama import ChatOllama, OllamaEmbeddings\n",
    "\n",
    "from langchain_teddynote.messages import messages_to_history\n",
    "from langchain_teddynote.tools.tavily import TavilySearch\n",
    "from langchain_teddynote.evaluator import GroundednessChecker\n",
    "\n",
    "from rag.utils import format_docs\n",
    "from rag.pdf import PDFRetrievalChain"
   ]
  },
  {
   "cell_type": "code",
   "execution_count": 10,
   "metadata": {},
   "outputs": [
    {
     "data": {
      "text/plain": [
       "True"
      ]
     },
     "execution_count": 10,
     "metadata": {},
     "output_type": "execute_result"
    }
   ],
   "source": [
    "from dotenv import load_dotenv\n",
    "load_dotenv()"
   ]
  },
  {
   "cell_type": "code",
   "execution_count": 2,
   "metadata": {},
   "outputs": [
    {
     "name": "stderr",
     "output_type": "stream",
     "text": [
      "/opt/anaconda3/envs/langgraph/lib/python3.11/site-packages/langsmith/client.py:272: LangSmithMissingAPIKeyWarning: API key must be provided when using hosted LangSmith API\n",
      "  warnings.warn(\n"
     ]
    }
   ],
   "source": [
    "pdf = PDFRetrievalChain([\"data/SPRI_AI_Brief_2023년12월호_F.pdf\"]).create_chain()"
   ]
  },
  {
   "cell_type": "code",
   "execution_count": 3,
   "metadata": {},
   "outputs": [],
   "source": [
    "pdf_retriever = pdf.retriever\n",
    "pdf_chain = pdf.chain\n"
   ]
  },
  {
   "cell_type": "code",
   "execution_count": 13,
   "metadata": {},
   "outputs": [
    {
     "name": "stdout",
     "output_type": "stream",
     "text": [
      "../rag_data/jbb/규정/(F2006) 사내근로복지기금 사무지침 [개정(14) 2022. 3.29].pdf\n"
     ]
    }
   ],
   "source": [
    "retrieved_docs = pdf_retriever.invoke('문화체육활동비에 대해 알려줘.')\n",
    "print(retrieved_docs[0].metadata[\"source\"])"
   ]
  },
  {
   "cell_type": "code",
   "execution_count": 14,
   "metadata": {},
   "outputs": [
    {
     "data": {
      "text/plain": [
       "HuggingFaceEmbeddings(model_name='/Users/netager/Docker_Data/openwebui-dify/rag_data/HUGGING_FACE_MODEL/BAAI_bge-m3', cache_folder=None, model_kwargs={'device': 'mps'}, encode_kwargs={'normalize_embeddings': True}, query_encode_kwargs={}, multi_process=False, show_progress=False)"
      ]
     },
     "execution_count": 14,
     "metadata": {},
     "output_type": "execute_result"
    }
   ],
   "source": [
    "pdf.create_embedding()\n"
   ]
  },
  {
   "cell_type": "code",
   "execution_count": 15,
   "metadata": {},
   "outputs": [
    {
     "data": {
      "text/plain": [
       "<langchain_chroma.vectorstores.Chroma at 0x448c0cc90>"
      ]
     },
     "execution_count": 15,
     "metadata": {},
     "output_type": "execute_result"
    }
   ],
   "source": [
    "pdf.create_vectorstore()"
   ]
  },
  {
   "cell_type": "code",
   "execution_count": 5,
   "metadata": {},
   "outputs": [
    {
     "data": {
      "text/plain": [
       "ChatOllama(model='gemma3:12b', temperature=0.0, base_url='http://localhost:11434')"
      ]
     },
     "execution_count": 5,
     "metadata": {},
     "output_type": "execute_result"
    }
   ],
   "source": [
    "pdf.create_model()"
   ]
  },
  {
   "cell_type": "code",
   "execution_count": 6,
   "metadata": {},
   "outputs": [
    {
     "name": "stdout",
     "output_type": "stream",
     "text": [
      "전 직원에게 연간 50만원 범위 내에서 체육문화활동비를 지원하며, 특정 조건(입행 후 10년 경과, 장학금 미지급, 만 45세 이상 미혼/기혼, 자녀 없음)을 충족하는 직원에게는 연 1백만원까지 지원한다. 체육문화활동의 범위는 각종 체육시설 이용, 스포츠/레저 장비 구입, 공연 관람, 도서/문화상품권 구입, 본인 및 자녀 학원비 등이 포함된다.\n",
      "\n",
      "**Source**\n",
      "- (F2006) 사내근로복지기금 사무지침 [개정(14) 2022. 3.29], page 1\n",
      "\n"
     ]
    }
   ],
   "source": [
    "answer = pdf_chain.invoke(\n",
    "    {\n",
    "        \"question\": \"문화체육활동비에 대해 알려줘.\",\n",
    "        \"context\": search_result,\n",
    "        \"chat_history\": [],\n",
    "    }\n",
    ")\n",
    "print(answer)"
   ]
  },
  {
   "cell_type": "code",
   "execution_count": 1,
   "metadata": {},
   "outputs": [
    {
     "name": "stderr",
     "output_type": "stream",
     "text": [
      "/opt/anaconda3/envs/langgraph/lib/python3.11/site-packages/tqdm/auto.py:21: TqdmWarning: IProgress not found. Please update jupyter and ipywidgets. See https://ipywidgets.readthedocs.io/en/stable/user_install.html\n",
      "  from .autonotebook import tqdm as notebook_tqdm\n"
     ]
    }
   ],
   "source": [
    "import os\n",
    "import json\n",
    "from typing import List, Annotated, AsyncGenerator\n",
    "from typing_extensions import TypedDict\n",
    "from langgraph.graph import StateGraph, START, END\n",
    "from langgraph.graph.message import add_messages\n",
    "from langchain_openai import ChatOpenAI\n",
    "from langchain_ollama import ChatOllama, OllamaEmbeddings\n",
    "from dotenv import load_dotenv\n",
    "\n",
    "from rag.utils import format_docs\n",
    "from langchain_teddynote.messages import messages_to_history\n",
    "from langchain_teddynote.tools.tavily import TavilySearch\n",
    "from langchain_teddynote.evaluator import GroundednessChecker\n",
    "from langgraph.checkpoint.memory import MemorySaver\n",
    "\n",
    "# Carrega as variáveis do arquivo .env\n",
    "load_dotenv()\n",
    "\n",
    "from rag.pdf import PDFRetrievalChain\n",
    "\n",
    "# PDF 문서를 로드합니다.\n",
    "pdf = PDFRetrievalChain([\"data/SPRI_AI_Brief_2023년12월호_F.pdf\"]).create_chain()\n",
    "\n",
    "# retriever와 chain을 생성합니다.\n",
    "pdf_retriever = pdf.retriever\n",
    "pdf_chain = pdf.chain\n",
    "\n",
    "# Obtém a chave da API do ambiente\n",
    "api_key = os.getenv(\"OPENAI_API_KEY\")\n",
    "\n",
    "class State(TypedDict):\n",
    "    question: Annotated[str, \"Question\"]  # 질문(누적되는 list)\n",
    "    context: Annotated[str, \"Context\"]  # 문서의 검색 결과\n",
    "    answer: Annotated[str, \"Answer\"]  # 답변\n",
    "    messages: Annotated[list, add_messages]  # 메시지(누적되는 list)\n",
    "    relevance: Annotated[str, \"Relevance\"]  # 관련성\n",
    "    # messages: Annotated[list, add_messages]\n",
    "\n",
    "\n",
    "# 문서 검색 노드\n",
    "def retrieve_document(state: State) -> State:\n",
    "    # print(f\"[langgraph_agent_jb.py] state : {state['messages']}\")        \n",
    "\n",
    "    # 질문을 상태에서 가져옵니다.\n",
    "    latest_question = state[\"question\"]\n",
    "\n",
    "    # 문서에서 검색하여 관련성 있는 문서를 찾습니다.\n",
    "    retrieved_docs = pdf_retriever.invoke(latest_question)\n",
    "\n",
    "    # 검색된 문서를 형식화합니다.(프롬프트 입력으로 넣어주기 위함)\n",
    "    retrieved_docs = format_docs(retrieved_docs)\n",
    "\n",
    "    # 검색된 문서를 context 키에 저장합니다.\n",
    "    return State(context=retrieved_docs)\n",
    "\n",
    "        \n",
    "def llm_answer(state: State) -> State:\n",
    "    latest_question = state[\"question\"]\n",
    "    context = state[\"context\"]\n",
    "\n",
    "    response = pdf_chain.invoke(\n",
    "        {\n",
    "            \"question\": latest_question,\n",
    "            \"context\": context,\n",
    "            \"chat_history\": messages_to_history(state[\"messages\"]),\n",
    "        }\n",
    "    )\n",
    "    # 생성된 답변, (유저의 질문, 답변) 메시지를 상태에 저장합니다.\n",
    "    return {\n",
    "        \"answer\": response,\n",
    "        \"messages\": [(\"user\", latest_question), (\"assistant\", response)]\n",
    "    }\n",
    "    return {\"messages\": [response]}        \n",
    "    \n",
    "    # return {\"messages\": [llm.invoke(state[\"messages\"])]}\n",
    "\n",
    "# 그래프 정의\n",
    "graph_builder = StateGraph(State)\n",
    "\n",
    "# 노드 정의\n",
    "graph_builder.add_node(\"retrieve\", retrieve_document)\n",
    "graph_builder.add_node(\"llm_answer\", llm_answer)\n",
    "\n",
    "# 엣지 정의\n",
    "graph_builder.add_edge(START, \"retrieve\")\n",
    "graph_builder.add_edge(\"retrieve\", \"llm_answer\")\n",
    "graph_builder.add_edge(\"llm_answer\", END)\n",
    "\n",
    "# 체크포인터 설정\n",
    "memory = MemorySaver()\n",
    "\n",
    "# 컴파일\n",
    "graph = graph_builder.compile()"
   ]
  },
  {
   "cell_type": "code",
   "execution_count": 2,
   "metadata": {},
   "outputs": [
    {
     "data": {
      "image/png": "[encoded data removed]",
      "text/plain": [
       "<IPython.core.display.Image object>"
      ]
     },
     "metadata": {},
     "output_type": "display_data"
    }
   ],
   "source": [
    "from langchain_teddynote.graphs import visualize_graph\n",
    "\n",
    "visualize_graph(graph)"
   ]
  },
  {
   "cell_type": "code",
   "execution_count": null,
   "metadata": {},
   "outputs": [
    {
     "ename": "TypeError",
     "evalue": "invoke_graph() missing 1 required positional argument: 'config'",
     "output_type": "error",
     "traceback": [
      "\u001b[31m---------------------------------------------------------------------------\u001b[39m",
      "\u001b[31mTypeError\u001b[39m                                 Traceback (most recent call last)",
      "\u001b[36mCell\u001b[39m\u001b[36m \u001b[39m\u001b[32mIn[3]\u001b[39m\u001b[32m, line 12\u001b[39m\n\u001b[32m      8\u001b[39m inputs = State(question=\u001b[33m\"\u001b[39m\u001b[33m정보보호위원회 위원은?\u001b[39m\u001b[33m\"\u001b[39m)\n\u001b[32m     10\u001b[39m \u001b[38;5;66;03m# 그래프 실행\u001b[39;00m\n\u001b[32m     11\u001b[39m \u001b[38;5;66;03m# invoke_graph(graph, inputs, config)\u001b[39;00m\n\u001b[32m---> \u001b[39m\u001b[32m12\u001b[39m \u001b[43minvoke_graph\u001b[49m\u001b[43m(\u001b[49m\u001b[43mgraph\u001b[49m\u001b[43m,\u001b[49m\u001b[43m \u001b[49m\u001b[43minputs\u001b[49m\u001b[43m)\u001b[49m\n",
      "\u001b[31mTypeError\u001b[39m: invoke_graph() missing 1 required positional argument: 'config'"
     ]
    }
   ],
   "source": [
    "from langchain_core.runnables import RunnableConfig\n",
    "from langchain_teddynote.messages import invoke_graph, stream_graph, random_uuid\n",
    "\n",
    "# config 설정(재귀 최대 횟수, thread_id)\n",
    "config = RunnableConfig(recursion_limit=20, configurable={\"thread_id\": random_uuid()})\n",
    "\n",
    "# 질문 입력\n",
    "inputs = State(question=\"정보보호위원회 위원은?\")\n",
    "\n",
    "# 그래프 실행\n",
    "invoke_graph(graph, inputs, config)"
   ]
  },
  {
   "cell_type": "code",
   "execution_count": 10,
   "metadata": {},
   "outputs": [
    {
     "name": "stdout",
     "output_type": "stream",
     "text": [
      "\n",
      "==================================================\n",
      "🔄 Node: \u001b[1;36mllm_answer\u001b[0m 🔄\n",
      "- - - - - - - - - - - - - - - - - - - - - - - - - \n",
      "정보보호위원회의 위원 구성은 다음과 같습니다:\n",
      "\n",
      "1. **위원장**: 정보보호최고책임자(CISO)\n",
      "2. **부위원장**: 정보보호 부서장\n",
      "3. **위원**: IT부서장, 디지털 부서장, 준법 부서장\n",
      "4. **위촉위원**: 심의사항 관련 부서 담당 본부장 및 부, 실, 팀장 중에서 위원장이 선임하는 위원\n",
      "5. **간사**: 정보보호 부서장\n",
      "\n",
      "이 구성은 정보보호위원회가 효율적으로 운영되도록 하기 위한 것입니다. 위원장은 위원회를 대표하고, 위원회의 업무를 총괄합니다. \n",
      "\n",
      "이 정보는 전북은행의 정보보호위원회 지침(D2010)에서 발췌한 것입니다."
     ]
    }
   ],
   "source": [
    "def stream_graph(\n",
    "    graph: CompiledStateGraph,\n",
    "    inputs: dict,\n",
    "    config: RunnableConfig,\n",
    "    node_names: List[str] = [],\n",
    "    callback: Callable = None,\n",
    "):\n",
    "    \"\"\"\n",
    "    LangGraph의 실행 결과를 스트리밍하여 출력하는 함수입니다.\n",
    "\n",
    "    Args:\n",
    "        graph (CompiledStateGraph): 실행할 컴파일된 LangGraph 객체\n",
    "        inputs (dict): 그래프에 전달할 입력값 딕셔너리\n",
    "        config (RunnableConfig): 실행 설정\n",
    "        node_names (List[str], optional): 출력할 노드 이름 목록. 기본값은 빈 리스트\n",
    "        callback (Callable, optional): 각 청크 처리를 위한 콜백 함수. 기본값은 None\n",
    "            콜백 함수는 {\"node\": str, \"content\": str} 형태의 딕셔너리를 인자로 받습니다.\n",
    "\n",
    "    Returns:\n",
    "        None: 함수는 스트리밍 결과를 출력만 하고 반환값은 없습니다.\n",
    "    \"\"\"\n",
    "    prev_node = \"\"\n",
    "    for chunk_msg, metadata in graph.stream(inputs, config, stream_mode=\"messages\"):\n",
    "        curr_node = metadata[\"langgraph_node\"]\n",
    "\n",
    "        # node_names가 비어있거나 현재 노드가 node_names에 있는 경우에만 처리\n",
    "        if not node_names or curr_node in node_names:\n",
    "            # 콜백 함수가 있는 경우 실행\n",
    "            if callback:\n",
    "                callback({\"node\": curr_node, \"content\": chunk_msg.content})\n",
    "            # 콜백이 없는 경우 기본 출력\n",
    "            else:\n",
    "                # 노드가 변경된 경우에만 구분선 출력\n",
    "                if curr_node != prev_node:\n",
    "                    print(\"\\n\" + \"=\" * 50)\n",
    "                    print(f\"🔄 Node: \\033[1;36m{curr_node}\\033[0m 🔄\")\n",
    "                    print(\"- \" * 25)\n",
    "                print(chunk_msg.content, end=\"\", flush=True)\n",
    "\n",
    "            prev_node = curr_node\n",
    "\n",
    "stream_graph(graph, inputs, config)"
   ]
  },
  {
   "cell_type": "code",
   "execution_count": null,
   "metadata": {},
   "outputs": [],
   "source": []
  },
  {
   "cell_type": "code",
   "execution_count": null,
   "metadata": {},
   "outputs": [],
   "source": [
    "async for event in graph.astream(input=inputs, stream_mode=\"messages\"):\n",
    "    print(f\"\\nReceived event: {event}\\n\")\n",
    "    # get first element of tuple\n",
    "    # message = message_chunk_to_message(event[0])\n",
    "    # print(f\"\\nConverted event: {message}\\n\")\n"
   ]
  },
  {
   "cell_type": "code",
   "execution_count": 22,
   "metadata": {},
   "outputs": [
    {
     "name": "stdout",
     "output_type": "stream",
     "text": [
      "retrieved_docs: <document><content>전산운영위원회 지침 D2009 - 1 -전산운영위원회 지침 소관부서 : IT기획부 제 1 조 (목적) 이 지침은 위원회규정 제13조에 따라 전산운영위원회 (이하 ｢위원회 ｣라 한다) 의 운영에 필요한 사항을 정함으로써 전산운영의 효율적 추진을 목적으로 한다.\n",
      "제 2 조 (구성) ① 위원회는 다음과 같이 구성한다 .\n",
      "1. 상임위원 : 전산담당임원 , 종합기획부장 , 인사지원부장 , 마케팅기획부장 , 준법감시부장 ,            IT기획부장 , IT개발부장 , 정보보호부장 , 디지털플랫폼부장 (2022. 8. 8 개정) 2. 위촉위원 : 심의사항 관련부서 담당본부장 및 부･실장 중에서 위원장이 선임하는 자  ② 위원회의 위원장은 전산담당본부장이 되며 위원장이 유고시 직무를 수행할 수 없을 때 에는 IT기획부장이 대행한다 . (2018. 7.11 개정)\n",
      "\n",
      "문서 : 전북은행 (D2009) 전산운영위원회지침 [개정(11) 2024. 6. 5]</content><source>../rag_data/jbb/규정/(D2009) 전산운영위원회지침 [개정(11) 2024. 6. 5].pdf</source><page>1</page></document>\n",
      "<document><content>전산운영위원회 지침 D2009 - 2 -1. 실무협의회 위원은 IT기획부장 , IT기획부 기획팀장 ,종합기획부 ･인사지원부 ･마케팅기획 부･준법감시부 ･IT개발부 ･정보보호부 ･디지털플랫폼부의 담당책임자로 구성한다 .(2022.  8. 8. 개정) 2. 실무협의회의 의장은 IT기획부장 , 부의장은 IT기획부 기획담당 부부장이 된다. (2018.  7.11 개정) 3. 각 부,실의 위원은 실무협의회 역할에 부합하는 업무를 담당하고 있는 책임자로 위원 장이 임명한다 .\n",
      "4. 실무협의회의 간사는 IT기획부 기획담당 책임자가 된다. (2018. 7.11 개정) 5. 위원장이 필요하다고 인정하는 경우 안건과 관련 있는 사업담당 및 관련부서 책임자를  출석시켜 설명 및 의견을 청취할 수 있다. (2012. 1. 6 신설) ③ 실무협의회는  건당 5천만원 초과 3억원 미만의 전산시스템 도입 사업에 대하여 사업의\n",
      "\n",
      "문서 : 전북은행 (D2009) 전산운영위원회지침 [개정(11) 2024. 6. 5]</content><source>../rag_data/jbb/규정/(D2009) 전산운영위원회지침 [개정(11) 2024. 6. 5].pdf</source><page>2</page></document>\n",
      "<document><content>IT기획부 JB-MPR-201-8.2                                   THE JEONBUK BANK - 16 -전 북 은 행 JEONBUK BANK절 차 서  문서번호 JB-MPR-201 전산기기 및 S/W 구매 절차  개정번호 8.2  쪽    수 16/28               위원으로 과반수 이상 참여하지 않아야 한다. 다만 차세대시스템 구축  등 대규모 전산시스템 구축사업에 대해서는 내부 및 외부평가위원으로  구성토록 하며 외부평가위원을 과반수 이상 구성토록 한다. (2023.7.14.)           (다) IT담당부서 자체 사업 추진을 위한 평가위원 구성은 IT담당부서 실무책 임자급 이상으로만 구성 할 수 있으며, 필요시 관련 본부부서 실무책임 자를 추가 할 수 있다.         (3) 평가항목           ｢별지#2｣의 요약표를 기준으로 평가항목을 정하여 전결권자의 승인을 받아 야 한다. 다만, 구매하고자 하는 정보기기의 특성에 따라 전결권자의 승인을  받아 평가항목을 달리할 수 있다.\n",
      "       (4) 평가\n",
      "\n",
      "문서 : 전북은행 (JB-MPR-201)전산기기및SW구매절차(20240426)</content><source>../rag_data/jbb/IT업무매뉴얼/(JB-MPR-201)전산기기및SW구매절차(20240426).pdf</source><page>18</page></document>\n",
      "<document><content>③ 위원회의 간사는 IT기획부장이 된다. (2018. 7.11 개정) 제 3 조 (심의사항 등)  ① 위원회는 다음 각 호의 사항을 심의한다 .\n",
      "1. 장･단기 전산업무 계획 심의･조정에 관한 사항 2. 전산투자 관련 예산계획 심의･조정에 관한 사항 3. 건당 3억원 이상 주요 전산시스템 도입 여부 결정에 관한 사항 (2011. 8.23 개정) 4. (2016. 7.27 삭제)  5. 전산시스템 비상계획 지침 및 절차 제･개정에 관한 사항 6. 정보기술 (IT) 동향 등에 관한 조사･연구 보고에 관한 사항 7. 기타 위원장이 필요하다고 인정하는 사항 8. 상기 각 호에 불구하고 다음 각 호의 경우에는 동 위원회 심의절차를 생략할 수 있다.\n",
      "가. 금융기관과 관련된 감독기관 (금융감독원 , 금융감독위원회 ), 관련기관 (금융정보화 추 진위원회 , 금융결제원 , 전국은행연합회 ) 등 외부기관 또는 금융기관간 전산망 공동\n",
      "\n",
      "문서 : 전북은행 (D2009) 전산운영위원회지침 [개정(11) 2024. 6. 5]</content><source>../rag_data/jbb/규정/(D2009) 전산운영위원회지침 [개정(11) 2024. 6. 5].pdf</source><page>1</page></document>\n",
      "<document><content>② 구성위원은 디지털기획부장 , 디지털플랫폼부장 , 종합기획부장 , 마케팅기획부장 , 상품개발부 장, 금융소비자보호부장 , 리스크관리부장 , IT기획부장 , IT개발부장으로 하고, 준법감시부장은  평가위원회에 배석할 수 있으며 , 소관부서장이 위원장이 되어 회의를 주재한다 . (2024.03.15.  개정) ③ 구성위원의 부서장이 참석 불가능한 경우 위원장의 판단에 따라 소속부서의 팀장 또는\n",
      "\n",
      "문서 : 전북은행 (U2020)가상자산사업자 실명확인 입출금계정(서비스) 관리지침[개정(2) 2024. 5. 3]</content><source>../rag_data/jbb/규정/(U2020)가상자산사업자 실명확인 입출금계정(서비스) 관리지침[개정(2) 2024. 5. 3].pdf</source><page>4</page></document>\n",
      "<class 'langchain_core.documents.base.Document'>\n"
     ]
    },
    {
     "ename": "KeyError",
     "evalue": "'page'",
     "output_type": "error",
     "traceback": [
      "\u001b[31m---------------------------------------------------------------------------\u001b[39m",
      "\u001b[31mKeyError\u001b[39m                                  Traceback (most recent call last)",
      "\u001b[36mCell\u001b[39m\u001b[36m \u001b[39m\u001b[32mIn[22]\u001b[39m\u001b[32m, line 26\u001b[39m\n\u001b[32m     20\u001b[39m     results.append(Document(\n\u001b[32m     21\u001b[39m                     page_content=\u001b[33mf\u001b[39m\u001b[33m\"\u001b[39m\u001b[33mHello, world! \u001b[39m\u001b[38;5;132;01m{\u001b[39;00mi\u001b[38;5;132;01m}\u001b[39;00m\u001b[33m\"\u001b[39m,\n\u001b[32m     22\u001b[39m                     metadata={\u001b[33m\"\u001b[39m\u001b[33msource\u001b[39m\u001b[33m\"\u001b[39m: \u001b[33mf\u001b[39m\u001b[33m\"\u001b[39m\u001b[33mhttps://example.com_\u001b[39m\u001b[38;5;132;01m{\u001b[39;00mi\u001b[38;5;132;01m}\u001b[39;00m\u001b[33m\"\u001b[39m}))\n\u001b[32m     24\u001b[39m \u001b[38;5;28mprint\u001b[39m(\u001b[38;5;28mtype\u001b[39m(results[\u001b[32m0\u001b[39m]))\n\u001b[32m---> \u001b[39m\u001b[32m26\u001b[39m test = \u001b[43mformat_docs\u001b[49m\u001b[43m(\u001b[49m\u001b[43mresults\u001b[49m\u001b[43m)\u001b[49m\n\u001b[32m     27\u001b[39m \u001b[38;5;66;03m# string_result = \"\\n\".join(results)\u001b[39;00m\n\u001b[32m     28\u001b[39m \u001b[38;5;66;03m# print(type(string_result), string_result)\u001b[39;00m\n\u001b[32m     29\u001b[39m \u001b[38;5;66;03m# l = ['a', 'b', 'c']\u001b[39;00m\n\u001b[32m     30\u001b[39m \u001b[38;5;66;03m# s = \"\\n\".join(l)\u001b[39;00m\n\u001b[32m     31\u001b[39m \u001b[38;5;66;03m# s.split(\"\\n\")\u001b[39;00m\n",
      "\u001b[36mFile \u001b[39m\u001b[32m~/git_prog/jbb_fastapi_langgraph_pipelines/example1/rag/utils.py:3\u001b[39m, in \u001b[36mformat_docs\u001b[39m\u001b[34m(docs)\u001b[39m\n\u001b[32m      1\u001b[39m \u001b[38;5;28;01mdef\u001b[39;00m\u001b[38;5;250m \u001b[39m\u001b[34mformat_docs\u001b[39m(docs):\n\u001b[32m      2\u001b[39m     \u001b[38;5;28;01mreturn\u001b[39;00m \u001b[33m\"\u001b[39m\u001b[38;5;130;01m\\n\u001b[39;00m\u001b[33m\"\u001b[39m.join(\n\u001b[32m----> \u001b[39m\u001b[32m3\u001b[39m         \u001b[43m[\u001b[49m\n\u001b[32m      4\u001b[39m \u001b[43m            \u001b[49m\u001b[33;43mf\u001b[39;49m\u001b[33;43m\"\u001b[39;49m\u001b[33;43m<document><content>\u001b[39;49m\u001b[38;5;132;43;01m{\u001b[39;49;00m\u001b[43mdoc\u001b[49m\u001b[43m.\u001b[49m\u001b[43mpage_content\u001b[49m\u001b[38;5;132;43;01m}\u001b[39;49;00m\u001b[33;43m</content><source>\u001b[39;49m\u001b[38;5;132;43;01m{\u001b[39;49;00m\u001b[43mdoc\u001b[49m\u001b[43m.\u001b[49m\u001b[43mmetadata\u001b[49m\u001b[43m[\u001b[49m\u001b[33;43m'\u001b[39;49m\u001b[33;43msource\u001b[39;49m\u001b[33;43m'\u001b[39;49m\u001b[43m]\u001b[49m\u001b[38;5;132;43;01m}\u001b[39;49;00m\u001b[33;43m</source><page>\u001b[39;49m\u001b[38;5;132;43;01m{\u001b[39;49;00m\u001b[38;5;28;43mint\u001b[39;49m\u001b[43m(\u001b[49m\u001b[43mdoc\u001b[49m\u001b[43m.\u001b[49m\u001b[43mmetadata\u001b[49m\u001b[43m[\u001b[49m\u001b[33;43m'\u001b[39;49m\u001b[33;43mpage\u001b[39;49m\u001b[33;43m'\u001b[39;49m\u001b[43m]\u001b[49m\u001b[43m)\u001b[49m\u001b[43m+\u001b[49m\u001b[32;43m1\u001b[39;49m\u001b[38;5;132;43;01m}\u001b[39;49;00m\u001b[33;43m</page></document>\u001b[39;49m\u001b[33;43m\"\u001b[39;49m\n\u001b[32m      5\u001b[39m \u001b[43m            \u001b[49m\u001b[38;5;28;43;01mfor\u001b[39;49;00m\u001b[43m \u001b[49m\u001b[43mdoc\u001b[49m\u001b[43m \u001b[49m\u001b[38;5;129;43;01min\u001b[39;49;00m\u001b[43m \u001b[49m\u001b[43mdocs\u001b[49m\n\u001b[32m      6\u001b[39m \u001b[43m        \u001b[49m\u001b[43m]\u001b[49m\n\u001b[32m      7\u001b[39m     )\n",
      "\u001b[36mFile \u001b[39m\u001b[32m~/git_prog/jbb_fastapi_langgraph_pipelines/example1/rag/utils.py:4\u001b[39m, in \u001b[36m<listcomp>\u001b[39m\u001b[34m(.0)\u001b[39m\n\u001b[32m      1\u001b[39m \u001b[38;5;28;01mdef\u001b[39;00m\u001b[38;5;250m \u001b[39m\u001b[34mformat_docs\u001b[39m(docs):\n\u001b[32m      2\u001b[39m     \u001b[38;5;28;01mreturn\u001b[39;00m \u001b[33m\"\u001b[39m\u001b[38;5;130;01m\\n\u001b[39;00m\u001b[33m\"\u001b[39m.join(\n\u001b[32m      3\u001b[39m         [\n\u001b[32m----> \u001b[39m\u001b[32m4\u001b[39m             \u001b[33mf\u001b[39m\u001b[33m\"\u001b[39m\u001b[33m<document><content>\u001b[39m\u001b[38;5;132;01m{\u001b[39;00mdoc.page_content\u001b[38;5;132;01m}\u001b[39;00m\u001b[33m</content><source>\u001b[39m\u001b[38;5;132;01m{\u001b[39;00mdoc.metadata[\u001b[33m'\u001b[39m\u001b[33msource\u001b[39m\u001b[33m'\u001b[39m]\u001b[38;5;132;01m}\u001b[39;00m\u001b[33m</source><page>\u001b[39m\u001b[38;5;132;01m{\u001b[39;00m\u001b[38;5;28mint\u001b[39m(\u001b[43mdoc\u001b[49m\u001b[43m.\u001b[49m\u001b[43mmetadata\u001b[49m\u001b[43m[\u001b[49m\u001b[33;43m'\u001b[39;49m\u001b[33;43mpage\u001b[39;49m\u001b[33;43m'\u001b[39;49m\u001b[43m]\u001b[49m)+\u001b[32m1\u001b[39m\u001b[38;5;132;01m}\u001b[39;00m\u001b[33m</page></document>\u001b[39m\u001b[33m\"\u001b[39m\n\u001b[32m      5\u001b[39m             \u001b[38;5;28;01mfor\u001b[39;00m doc \u001b[38;5;129;01min\u001b[39;00m docs\n\u001b[32m      6\u001b[39m         ]\n\u001b[32m      7\u001b[39m     )\n",
      "\u001b[31mKeyError\u001b[39m: 'page'"
     ]
    }
   ],
   "source": [
    "from langchain_core.documents import Document\n",
    "from rag.utils import format_docs\n",
    "from rag.pdf import PDFRetrievalChain\n",
    "\n",
    "pdf = PDFRetrievalChain().create_chain()\n",
    "\n",
    "pdf_retriever = pdf.retriever\n",
    "pdf_chain = pdf.chain\n",
    "\n",
    "latest_question = \"전산운영위원회 위원에 대해 알려줘.\"\n",
    "retrieved_docs = pdf_retriever.invoke(latest_question)\n",
    "\n",
    "retrieved_docs = format_docs(retrieved_docs)\n",
    "\n",
    "print(f\"retrieved_docs: {retrieved_docs}\")\n",
    "\n",
    "\n",
    "results = []\n",
    "for i in range(3):\n",
    "    results.append(Document(\n",
    "                    page_content=f\"Hello, world! {i}\",\n",
    "                    metadata={\"source\": f\"https://example.com_{i}\"}))\n",
    "\n",
    "print(type(results[0]))\n",
    "\n",
    "test = format_docs(results)\n",
    "# string_result = \"\\n\".join(results)\n",
    "# print(type(string_result), string_result)\n",
    "# l = ['a', 'b', 'c']\n",
    "# s = \"\\n\".join(l)\n",
    "# s.split(\"\\n\")\n",
    "\n"
   ]
  }
 ],
 "metadata": {
  "kernelspec": {
   "display_name": "langgraph",
   "language": "python",
   "name": "python3"
  },
  "language_info": {
   "codemirror_mode": {
    "name": "ipython",
    "version": 3
   },
   "file_extension": ".py",
   "mimetype": "text/x-python",
   "name": "python",
   "nbconvert_exporter": "python",
   "pygments_lexer": "ipython3",
   "version": "3.11.13"
  }
 },
 "nbformat": 4,
 "nbformat_minor": 2
}
